{
 "cells": [
  {
   "cell_type": "code",
   "execution_count": 10,
   "id": "29b32cb9",
   "metadata": {},
   "outputs": [],
   "source": [
    "import matplotlib.pyplot as plt\n",
    "import numpy as np\n",
    "import pandas as pd\n",
    "import datetime as dt\n",
    "import sqlalchemy\n",
    "from sqlalchemy.ext.automap import automap_base\n",
    "from sqlalchemy.orm import Session\n",
    "from sqlalchemy import create_engine, func, inspect"
   ]
  },
  {
   "cell_type": "code",
   "execution_count": 11,
   "id": "4c8527e7",
   "metadata": {},
   "outputs": [],
   "source": [
    "engine = create_engine(\"sqlite:///Resources/hawaii.sqlite\")"
   ]
  },
  {
   "cell_type": "code",
   "execution_count": 12,
   "id": "a57cfe6a",
   "metadata": {},
   "outputs": [],
   "source": [
    "Base = automap_base()\n",
    "# Reflect tables\n",
    "Base.prepare(engine, reflect=True)"
   ]
  },
  {
   "cell_type": "code",
   "execution_count": 13,
   "id": "ef7b5c18",
   "metadata": {},
   "outputs": [
    {
     "data": {
      "text/plain": [
       "['measurement', 'station']"
      ]
     },
     "execution_count": 13,
     "metadata": {},
     "output_type": "execute_result"
    }
   ],
   "source": [
    "Base.classes.keys()"
   ]
  },
  {
   "cell_type": "code",
   "execution_count": 14,
   "id": "ade0f825",
   "metadata": {},
   "outputs": [],
   "source": [
    "Measurement = Base.classes.measurement\n",
    "Station = Base.classes.station"
   ]
  },
  {
   "cell_type": "code",
   "execution_count": 15,
   "id": "cdf1c804",
   "metadata": {},
   "outputs": [],
   "source": [
    "# Create session to line Python to database\n",
    "session = Session(engine)"
   ]
  },
  {
   "cell_type": "code",
   "execution_count": 16,
   "id": "7b3e66b2",
   "metadata": {},
   "outputs": [
    {
     "data": {
      "text/plain": [
       "('2017-08-23',)"
      ]
     },
     "execution_count": 16,
     "metadata": {},
     "output_type": "execute_result"
    }
   ],
   "source": [
    "# Find the most recent date in the dataset\n",
    "recent_date = session.query(Measurement.date).order_by(Measurement.date.desc()).first()\n",
    "recent_date"
   ]
  },
  {
   "cell_type": "code",
   "execution_count": 20,
   "id": "6294003a",
   "metadata": {},
   "outputs": [
    {
     "name": "stdout",
     "output_type": "stream",
     "text": [
      "2016-08-23\n"
     ]
    }
   ],
   "source": [
    "# Using that date, get the previous 12 months of precipitation data by querying the previous 12 months of data\n",
    "prev_year = dt.date(2017,8,23) - dt.timedelta(days= 365)\n",
    "print(prev_year)"
   ]
  },
  {
   "cell_type": "code",
   "execution_count": 21,
   "id": "34881f2b",
   "metadata": {},
   "outputs": [],
   "source": [
    "prcp_data = session.query(Measurement.date, Measurement.prcp).\\\n",
    "    filter(Measurement.date >= prev_year, Measurement.prcp != None).\\\n",
    "    order_by(Measurement.date).all()"
   ]
  },
  {
   "cell_type": "code",
   "execution_count": 23,
   "id": "44a2332c",
   "metadata": {},
   "outputs": [
    {
     "data": {
      "text/html": [
       "<div>\n",
       "<style scoped>\n",
       "    .dataframe tbody tr th:only-of-type {\n",
       "        vertical-align: middle;\n",
       "    }\n",
       "\n",
       "    .dataframe tbody tr th {\n",
       "        vertical-align: top;\n",
       "    }\n",
       "\n",
       "    .dataframe thead th {\n",
       "        text-align: right;\n",
       "    }\n",
       "</style>\n",
       "<table border=\"1\" class=\"dataframe\">\n",
       "  <thead>\n",
       "    <tr style=\"text-align: right;\">\n",
       "      <th></th>\n",
       "      <th>Precipitation</th>\n",
       "    </tr>\n",
       "    <tr>\n",
       "      <th>Date</th>\n",
       "      <th></th>\n",
       "    </tr>\n",
       "  </thead>\n",
       "  <tbody>\n",
       "    <tr>\n",
       "      <th>2016-08-23</th>\n",
       "      <td>0.00</td>\n",
       "    </tr>\n",
       "    <tr>\n",
       "      <th>2016-08-23</th>\n",
       "      <td>0.15</td>\n",
       "    </tr>\n",
       "    <tr>\n",
       "      <th>2016-08-23</th>\n",
       "      <td>0.05</td>\n",
       "    </tr>\n",
       "    <tr>\n",
       "      <th>2016-08-23</th>\n",
       "      <td>0.02</td>\n",
       "    </tr>\n",
       "    <tr>\n",
       "      <th>2016-08-23</th>\n",
       "      <td>1.79</td>\n",
       "    </tr>\n",
       "  </tbody>\n",
       "</table>\n",
       "</div>"
      ],
      "text/plain": [
       "            Precipitation\n",
       "Date                     \n",
       "2016-08-23           0.00\n",
       "2016-08-23           0.15\n",
       "2016-08-23           0.05\n",
       "2016-08-23           0.02\n",
       "2016-08-23           1.79"
      ]
     },
     "execution_count": 23,
     "metadata": {},
     "output_type": "execute_result"
    }
   ],
   "source": [
    "# Load the query results into a Pandas DataFrame, and set the index to the \"date\" column\n",
    "df = pd.DataFrame(prcp_data, columns=['Date', 'Precipitation'])\n",
    "df.set_index('Date', inplace=True)\n",
    "df.head()"
   ]
  },
  {
   "cell_type": "code",
   "execution_count": 47,
   "id": "a4effa77",
   "metadata": {},
   "outputs": [
    {
     "data": {
      "image/png": "[encoded data removed]",
      "text/plain": [
       "<Figure size 504x360 with 1 Axes>"
      ]
     },
     "metadata": {
      "needs_background": "light"
     },
     "output_type": "display_data"
    }
   ],
   "source": [
    "# Plot the results\n",
    "df.plot(kind='line', figsize=(7,5), linewidth=4)\n",
    "plt.xlabel('Date')\n",
    "plt.ylabel('Inches')\n",
    "plt.xticks(rotation=90)\n",
    "plt.grid(visible=True, linestyle='-.')\n",
    "plt.savefig('./Precipitation.png', format='png')"
   ]
  },
  {
   "cell_type": "code",
   "execution_count": 50,
   "id": "a33af72b",
   "metadata": {},
   "outputs": [
    {
     "data": {
      "text/html": [
       "<div>\n",
       "<style scoped>\n",
       "    .dataframe tbody tr th:only-of-type {\n",
       "        vertical-align: middle;\n",
       "    }\n",
       "\n",
       "    .dataframe tbody tr th {\n",
       "        vertical-align: top;\n",
       "    }\n",
       "\n",
       "    .dataframe thead th {\n",
       "        text-align: right;\n",
       "    }\n",
       "</style>\n",
       "<table border=\"1\" class=\"dataframe\">\n",
       "  <thead>\n",
       "    <tr style=\"text-align: right;\">\n",
       "      <th></th>\n",
       "      <th>Precipitation</th>\n",
       "    </tr>\n",
       "  </thead>\n",
       "  <tbody>\n",
       "    <tr>\n",
       "      <th>count</th>\n",
       "      <td>2021.000000</td>\n",
       "    </tr>\n",
       "    <tr>\n",
       "      <th>mean</th>\n",
       "      <td>0.177279</td>\n",
       "    </tr>\n",
       "    <tr>\n",
       "      <th>std</th>\n",
       "      <td>0.461190</td>\n",
       "    </tr>\n",
       "    <tr>\n",
       "      <th>min</th>\n",
       "      <td>0.000000</td>\n",
       "    </tr>\n",
       "    <tr>\n",
       "      <th>25%</th>\n",
       "      <td>0.000000</td>\n",
       "    </tr>\n",
       "    <tr>\n",
       "      <th>50%</th>\n",
       "      <td>0.020000</td>\n",
       "    </tr>\n",
       "    <tr>\n",
       "      <th>75%</th>\n",
       "      <td>0.130000</td>\n",
       "    </tr>\n",
       "    <tr>\n",
       "      <th>max</th>\n",
       "      <td>6.700000</td>\n",
       "    </tr>\n",
       "  </tbody>\n",
       "</table>\n",
       "</div>"
      ],
      "text/plain": [
       "       Precipitation\n",
       "count    2021.000000\n",
       "mean        0.177279\n",
       "std         0.461190\n",
       "min         0.000000\n",
       "25%         0.000000\n",
       "50%         0.020000\n",
       "75%         0.130000\n",
       "max         6.700000"
      ]
     },
     "execution_count": 50,
     "metadata": {},
     "output_type": "execute_result"
    }
   ],
   "source": [
    "# Use Pandas to print the summary statistics for the precipitation data\n",
    "df.describe()"
   ]
  },
  {
   "cell_type": "code",
   "execution_count": 51,
   "id": "67f8c239",
   "metadata": {},
   "outputs": [
    {
     "data": {
      "text/plain": [
       "9"
      ]
     },
     "execution_count": 51,
     "metadata": {},
     "output_type": "execute_result"
    }
   ],
   "source": [
    "# Design a query to calculate the total number of stations in the dataset\n",
    "session.query(Measurement.station).distinct().count()"
   ]
  },
  {
   "cell_type": "code",
   "execution_count": 52,
   "id": "9e41757a",
   "metadata": {},
   "outputs": [
    {
     "data": {
      "text/plain": [
       "[('USC00519281', 2772),\n",
       " ('USC00519397', 2724),\n",
       " ('USC00513117', 2709),\n",
       " ('USC00519523', 2669),\n",
       " ('USC00516128', 2612),\n",
       " ('USC00514830', 2202),\n",
       " ('USC00511918', 1979),\n",
       " ('USC00517948', 1372),\n",
       " ('USC00518838', 511)]"
      ]
     },
     "execution_count": 52,
     "metadata": {},
     "output_type": "execute_result"
    }
   ],
   "source": [
    "# Design a query to find the most-active stations\n",
    "active_stations = session.query(Measurement.station, func.count(Measurement.station)).\\\n",
    "                               group_by(Measurement.station).\\\n",
    "                               order_by(func.count(Measurement.station).desc()).all()\n",
    "active_stations"
   ]
  },
  {
   "cell_type": "code",
   "execution_count": 53,
   "id": "970c4750",
   "metadata": {},
   "outputs": [
    {
     "data": {
      "text/plain": [
       "[(54.0, 85.0, 71.66378066378067)]"
      ]
     },
     "execution_count": 53,
     "metadata": {},
     "output_type": "execute_result"
    }
   ],
   "source": [
    "# Design a query that calculates the lowest, highest, and average temperatures that filters on the most-active \n",
    "# station id found in the previous query\n",
    "temp_query = session.query(func.min(Measurement.tobs),func.max(Measurement.tobs),func.avg(Measurement.tobs)).\\\n",
    "                filter(Measurement.station == 'USC00519281').order_by(func.min(Measurement.tobs)).all()\n",
    "temp_query"
   ]
  },
  {
   "cell_type": "code",
   "execution_count": 78,
   "id": "2024cbf1",
   "metadata": {},
   "outputs": [
    {
     "name": "stdout",
     "output_type": "stream",
     "text": [
      "[(59.0,), (59.0,), (59.0,), (60.0,), (60.0,), (61.0,), (62.0,), (62.0,), (62.0,), (62.0,), (62.0,), (62.0,), (63.0,), (63.0,), (63.0,), (63.0,), (64.0,), (64.0,), (64.0,), (65.0,), (65.0,), (65.0,), (65.0,), (65.0,), (65.0,), (65.0,), (66.0,), (66.0,), (66.0,), (66.0,), (66.0,), (67.0,), (67.0,), (67.0,), (67.0,), (67.0,), (67.0,), (67.0,), (67.0,), (67.0,), (67.0,), (67.0,), (67.0,), (67.0,), (67.0,), (67.0,), (68.0,), (68.0,), (68.0,), (68.0,), (68.0,), (68.0,), (68.0,), (68.0,), (68.0,), (68.0,), (68.0,), (68.0,), (69.0,), (69.0,), (69.0,), (69.0,), (69.0,), (69.0,), (69.0,), (69.0,), (69.0,), (69.0,), (69.0,), (69.0,), (69.0,), (69.0,), (69.0,), (69.0,), (69.0,), (69.0,), (69.0,), (70.0,), (70.0,), (70.0,), (70.0,), (70.0,), (70.0,), (70.0,), (70.0,), (70.0,), (70.0,), (70.0,), (70.0,), (70.0,), (70.0,), (70.0,), (70.0,), (70.0,), (70.0,), (70.0,), (70.0,), (70.0,), (70.0,), (71.0,), (71.0,), (71.0,), (71.0,), (71.0,), (71.0,), (71.0,), (71.0,), (71.0,), (71.0,), (71.0,), (71.0,), (71.0,), (71.0,), (71.0,), (71.0,), (71.0,), (71.0,), (72.0,), (72.0,), (72.0,), (72.0,), (72.0,), (72.0,), (72.0,), (72.0,), (72.0,), (72.0,), (72.0,), (72.0,), (72.0,), (72.0,), (72.0,), (72.0,), (72.0,), (72.0,), (72.0,), (72.0,), (72.0,), (72.0,), (73.0,), (73.0,), (73.0,), (73.0,), (73.0,), (73.0,), (73.0,), (73.0,), (73.0,), (73.0,), (73.0,), (73.0,), (73.0,), (73.0,), (73.0,), (73.0,), (73.0,), (73.0,), (74.0,), (74.0,), (74.0,), (74.0,), (74.0,), (74.0,), (74.0,), (74.0,), (74.0,), (74.0,), (74.0,), (74.0,), (74.0,), (74.0,), (74.0,), (74.0,), (74.0,), (74.0,), (74.0,), (74.0,), (74.0,), (74.0,), (74.0,), (74.0,), (74.0,), (74.0,), (74.0,), (74.0,), (74.0,), (74.0,), (74.0,), (74.0,), (74.0,), (74.0,), (74.0,), (74.0,), (74.0,), (74.0,), (74.0,), (75.0,), (75.0,), (75.0,), (75.0,), (75.0,), (75.0,), (75.0,), (75.0,), (75.0,), (75.0,), (75.0,), (75.0,), (75.0,), (75.0,), (75.0,), (75.0,), (75.0,), (75.0,), (75.0,), (75.0,), (75.0,), (75.0,), (75.0,), (75.0,), (75.0,), (75.0,), (75.0,), (75.0,), (75.0,), (75.0,), (75.0,), (75.0,), (75.0,), (76.0,), (76.0,), (76.0,), (76.0,), (76.0,), (76.0,), (76.0,), (76.0,), (76.0,), (76.0,), (76.0,), (76.0,), (76.0,), (76.0,), (76.0,), (76.0,), (76.0,), (76.0,), (76.0,), (76.0,), (76.0,), (76.0,), (76.0,), (76.0,), (76.0,), (76.0,), (76.0,), (76.0,), (76.0,), (76.0,), (76.0,), (76.0,), (76.0,), (77.0,), (77.0,), (77.0,), (77.0,), (77.0,), (77.0,), (77.0,), (77.0,), (77.0,), (77.0,), (77.0,), (77.0,), (77.0,), (77.0,), (77.0,), (77.0,), (77.0,), (77.0,), (77.0,), (77.0,), (77.0,), (77.0,), (77.0,), (77.0,), (77.0,), (77.0,), (77.0,), (77.0,), (77.0,), (77.0,), (77.0,), (78.0,), (78.0,), (78.0,), (78.0,), (78.0,), (78.0,), (78.0,), (78.0,), (78.0,), (78.0,), (78.0,), (78.0,), (78.0,), (78.0,), (78.0,), (78.0,), (78.0,), (78.0,), (78.0,), (78.0,), (78.0,), (78.0,), (79.0,), (79.0,), (79.0,), (79.0,), (79.0,), (79.0,), (79.0,), (79.0,), (79.0,), (79.0,), (79.0,), (79.0,), (79.0,), (79.0,), (79.0,), (79.0,), (79.0,), (79.0,), (80.0,), (80.0,), (80.0,), (80.0,), (80.0,), (80.0,), (80.0,), (80.0,), (80.0,), (80.0,), (80.0,), (81.0,), (81.0,), (81.0,), (81.0,), (82.0,), (82.0,), (82.0,), (83.0,)]\n"
     ]
    }
   ],
   "source": [
    "# Design a query to get the previous 12 months of temperature observation (TOBS) data\n",
    "temp_data = session.query(Measurement.tobs).\\\n",
    "      filter(Measurement.date >= prev_year, Measurement.station == 'USC00519281').\\\n",
    "      order_by(Measurement.tobs).all()\n",
    "print(temp_data)"
   ]
  },
  {
   "cell_type": "code",
   "execution_count": 79,
   "id": "f759f8cd",
   "metadata": {},
   "outputs": [
    {
     "data": {
      "text/html": [
       "<div>\n",
       "<style scoped>\n",
       "    .dataframe tbody tr th:only-of-type {\n",
       "        vertical-align: middle;\n",
       "    }\n",
       "\n",
       "    .dataframe tbody tr th {\n",
       "        vertical-align: top;\n",
       "    }\n",
       "\n",
       "    .dataframe thead th {\n",
       "        text-align: right;\n",
       "    }\n",
       "</style>\n",
       "<table border=\"1\" class=\"dataframe\">\n",
       "  <thead>\n",
       "    <tr style=\"text-align: right;\">\n",
       "      <th></th>\n",
       "      <th>tobs</th>\n",
       "    </tr>\n",
       "  </thead>\n",
       "  <tbody>\n",
       "    <tr>\n",
       "      <th>0</th>\n",
       "      <td>59.0</td>\n",
       "    </tr>\n",
       "    <tr>\n",
       "      <th>1</th>\n",
       "      <td>59.0</td>\n",
       "    </tr>\n",
       "    <tr>\n",
       "      <th>2</th>\n",
       "      <td>59.0</td>\n",
       "    </tr>\n",
       "    <tr>\n",
       "      <th>3</th>\n",
       "      <td>60.0</td>\n",
       "    </tr>\n",
       "    <tr>\n",
       "      <th>4</th>\n",
       "      <td>60.0</td>\n",
       "    </tr>\n",
       "  </tbody>\n",
       "</table>\n",
       "</div>"
      ],
      "text/plain": [
       "   tobs\n",
       "0  59.0\n",
       "1  59.0\n",
       "2  59.0\n",
       "3  60.0\n",
       "4  60.0"
      ]
     },
     "execution_count": 79,
     "metadata": {},
     "output_type": "execute_result"
    }
   ],
   "source": [
    "# Transform into pandas dataframe\n",
    "temp_df = pd.DataFrame(temp_data, columns=['tobs'])\n",
    "temp_df.head()"
   ]
  },
  {
   "cell_type": "code",
   "execution_count": 85,
   "id": "6e772d2f",
   "metadata": {},
   "outputs": [
    {
     "data": {
      "image/png": "[encoded data removed]",
      "text/plain": [
       "<Figure size 432x288 with 1 Axes>"
      ]
     },
     "metadata": {
      "needs_background": "light"
     },
     "output_type": "display_data"
    },
    {
     "data": {
      "text/plain": [
       "<Figure size 432x288 with 0 Axes>"
      ]
     },
     "metadata": {},
     "output_type": "display_data"
    }
   ],
   "source": [
    "# Plot as a histogram\n",
    "temp_df.plot.hist(bins=12, color='blue')\n",
    "plt.xlabel('Temperature')\n",
    "plt.ylabel('Frequency')\n",
    "plt.title('Temperature Histogram')\n",
    "plt.show()\n",
    "plt.savefig('./temp-histogram.png')"
   ]
  },
  {
   "cell_type": "code",
   "execution_count": 86,
   "id": "7ea4a9f9",
   "metadata": {},
   "outputs": [],
   "source": [
    "# Close session\n",
    "session.close()"
   ]
  }
 ],
 "metadata": {
  "kernelspec": {
   "display_name": "Python 3 (ipykernel)",
   "language": "python",
   "name": "python3"
  },
  "language_info": {
   "codemirror_mode": {
    "name": "ipython",
    "version": 3
   },
   "file_extension": ".py",
   "mimetype": "text/x-python",
   "name": "python",
   "nbconvert_exporter": "python",
   "pygments_lexer": "ipython3",
   "version": "3.9.12"
  }
 },
 "nbformat": 4,
 "nbformat_minor": 5
}
